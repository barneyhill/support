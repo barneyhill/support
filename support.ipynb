{
 "cells": [
  {
   "cell_type": "code",
   "execution_count": 70,
   "metadata": {},
   "outputs": [],
   "source": [
    "import scipy.stats as st\n",
    "import statistics\n",
    "import numpy as np\n",
    "import math\n",
    "import random"
   ]
  },
  {
   "cell_type": "code",
   "execution_count": 26,
   "metadata": {},
   "outputs": [],
   "source": [
    "class Tree:\n",
    "    def __init__(self):\n",
    "        self.left = None\n",
    "        self.right = None\n",
    "        self.data = None"
   ]
  },
  {
   "cell_type": "code",
   "execution_count": 81,
   "metadata": {
    "scrolled": true
   },
   "outputs": [
    {
     "ename": "IndentationError",
     "evalue": "expected an indented block (<ipython-input-81-fca7ba36a833>, line 48)",
     "output_type": "error",
     "traceback": [
      "\u001b[0;36m  File \u001b[0;32m\"<ipython-input-81-fca7ba36a833>\"\u001b[0;36m, line \u001b[0;32m48\u001b[0m\n\u001b[0;31m    def fit(X, y):\u001b[0m\n\u001b[0m                  ^\u001b[0m\n\u001b[0;31mIndentationError\u001b[0m\u001b[0;31m:\u001b[0m expected an indented block\n"
     ]
    }
   ],
   "source": [
    "def createTree(X, y):\n",
    "    t = Tree()\n",
    "    t.data = {'X': X, 'y': y}\n",
    "    \n",
    "    return t\n",
    "\n",
    "def splitNode(t):\n",
    "    class1, class2 = {'X':[], 'y':[]}, {'X':[], 'y':[]}\n",
    "    \n",
    "    #Split selection (1. Model selection)\n",
    "    \n",
    "    if len(t.data['X']) < 1:\n",
    "        a = 0\n",
    "        b = statistics.mean(t.data['X'])\n",
    "    else:\n",
    "        a,b,_,_,_ = st.linregress(t.data['X'], t.data['y'])\n",
    "        \n",
    "    #Split selection (2. Residuals)\n",
    "        \n",
    "    for i in range(0, len(t.data['X'])):\n",
    "        if t.data['y'][i] >= a * t.data['X'][i] + b:\n",
    "            class1['X'].append(t.data['X'][i])\n",
    "            class1['y'].append(t.data['y'][i])\n",
    "                    \n",
    "        else:\n",
    "            class2['X'].append(t.data['X'][i])\n",
    "            class2['y'].append(t.data['y'][i])\n",
    "    \n",
    "    #Split selection (3. Tests for means and variances)\n",
    "    \n",
    "    print(class1['X'], class2['X'])\n",
    "    #(a) Test for difference in means\n",
    "    test_mean_diff = ( statistics.mean(class1['X']) - statistics.mean(class2['X']) ) / \\\n",
    "                     ( statistics.pstdev(t.data['X']) * math.sqrt(1/len(class1) + 1/len(class2)))\n",
    "    \n",
    "    #(b) Test for difference in variances (Levene, 1960)\n",
    "    test_var_diff = ( statistics.mean([abs(x - statistics.mean(class1['X'])) for x in class1['X']]) - \\\n",
    "                      statistics.mean([abs(x - statistics.mean(class2['X'])) for x in class2['X']]) ) / \\\n",
    "                     ( statistics.pstdev([abs(x - statistics.mean(t.data['X'])) for x in t.data['X']]) * math.sqrt(1/len(class1) + 1/len(class2)))\n",
    "    \n",
    "    prob_mean_diff = st.t.sf(test_mean_diff, len(t.data['X']) - 1)\n",
    "    prob_var_diff = st.t.sf(test_var_diff, len(t.data['X']) - 1)\n",
    "    \n",
    "    if prob_mean_diff < prob_var_diff:\n",
    "        alpha = prob_mean_diff\n",
    "    else:\n",
    "        alpha = prob_var_diff\n",
    "        \n",
    "    #Split selection (4. Variable selection)\n",
    "    \n",
    "    \n",
    "    \n",
    "def fit(X, y):\n",
    "    t = createTree(X, y)\n",
    "    splitNode(t)\n",
    "    "
   ]
  },
  {
   "cell_type": "code",
   "execution_count": 80,
   "metadata": {
    "scrolled": true
   },
   "outputs": [
    {
     "name": "stdout",
     "output_type": "stream",
     "text": [
      "[9.635373787576814, 0.2515953820891592, 1.6713756564191862, 1.4596882571379022, 8.380674674137483, 2.0569021017237787, 0.4829745188332635, 9.020571278567521, 9.381003235913322, 2.139986535866931, 9.219827039849038, 9.819893474297333, 8.414830998522495, 1.9935088550761526, 8.048152490853933, 0.02774660076339308, 0.22838137043494244, 8.344681998955098, 9.291063007121865, 8.11496824839119, 9.904451847509852, 9.15418880185087, 8.458362154630827, 0.14314846027507433, 1.2017708884029576, 8.127059297777569, 2.1171255126946367, 1.9014303852399106, 1.372737659864528, 0.4602796909067375, 8.660934538188144, 2.142494729813651, 9.393559167765119, 1.0765367299774709, 9.315397133453851, 7.982291331520725, 9.38038365849648, 8.838230178828343, 1.7478555129413798, 8.148458163995114, 0.18504756704585068, 0.7247265916238543, 1.2095276492104057, 1.6263305115379334] [4.227945200843866, 7.781341154927539, 3.7470366760620513, 6.863219507496241, 6.400354126865886, 2.4598131959518366, 7.468773434985369, 2.6996893870096805, 6.973255119058708, 4.682178499417394, 4.605124788311389, 5.176248423914156, 4.559437032792971, 4.879847616313749, 5.769220618878601, 5.771658689337846, 6.475078805545187, 3.245295006211987, 6.256169512094257, 3.2780170072776196, 4.769024242437214, 5.362184380562983, 6.6411121060632885, 6.662869861214654, 7.726904009700767, 6.9483722591518635, 2.49432630951853, 2.8723682666934938, 5.804070998922207, 2.633803123365286, 7.766739913380459, 4.073271716077226, 4.086065394762538, 6.946536141291409, 2.974270280392525, 5.132234452491213, 5.780153452006793, 6.242193797936101, 4.654231060503364, 5.886788115818459, 4.206721594079824, 5.060376648529601, 2.8251993814409495, 3.265053062779643, 2.4361668043424, 4.230593094265037, 4.524062615266957, 3.251247846967007, 7.509614688933502, 2.5275932908261813, 5.956506482629667, 7.823132734412757, 2.8650865072408296, 3.5690070479768545, 5.389120276124043, 5.500418305314478]\n",
      "0.4953258394444872 0.04648971594020547\n"
     ]
    }
   ],
   "source": [
    "def f(x):\n",
    "    return x**2 + 3\n",
    "\n",
    "X, y = [], []\n",
    "for _ in range(0, 100):\n",
    "    x = random.random() * 10 # x in [0, 10]\n",
    "    X.append(x)\n",
    "    y.append(f(x))\n",
    "    \n",
    "fit(X,y)"
   ]
  },
  {
   "cell_type": "code",
   "execution_count": null,
   "metadata": {},
   "outputs": [],
   "source": []
  },
  {
   "cell_type": "code",
   "execution_count": null,
   "metadata": {},
   "outputs": [],
   "source": []
  },
  {
   "cell_type": "code",
   "execution_count": null,
   "metadata": {},
   "outputs": [],
   "source": []
  }
 ],
 "metadata": {
  "kernelspec": {
   "display_name": "Python 3",
   "language": "python",
   "name": "python3"
  },
  "language_info": {
   "codemirror_mode": {
    "name": "ipython",
    "version": 3
   },
   "file_extension": ".py",
   "mimetype": "text/x-python",
   "name": "python",
   "nbconvert_exporter": "python",
   "pygments_lexer": "ipython3",
   "version": "3.5.2"
  }
 },
 "nbformat": 4,
 "nbformat_minor": 4
}
