{
 "cells": [
  {
   "cell_type": "code",
   "execution_count": 97,
   "metadata": {},
   "outputs": [],
   "source": [
    "import scipy.stats as st\n",
    "from sklearn import linear_model\n",
    "import statistics\n",
    "import numpy as np\n",
    "import math\n",
    "import random"
   ]
  },
  {
   "cell_type": "code",
   "execution_count": 98,
   "metadata": {},
   "outputs": [],
   "source": [
    "class Tree:\n",
    "    def __init__(self):\n",
    "        self.leaves = None\n",
    "        self.data = None"
   ]
  },
  {
   "cell_type": "code",
   "execution_count": 99,
   "metadata": {
    "scrolled": true
   },
   "outputs": [],
   "source": [
    "def createTree(X, y):\n",
    "    t = Tree()\n",
    "    t.data = {'X': X, 'y': y}\n",
    "    \n",
    "    return t\n",
    "# 2.2.2 Stopping rule\n",
    "def shouldSplit(t, params):\n",
    "\n",
    "    samples = [{'X':[],'y':[]} for i in range(params['V'])]\n",
    "    \n",
    "    data_indexes = list(range(len(t.data['X'])))\n",
    "    random.shuffle(data_indexes)\n",
    "    \n",
    "    i = 0\n",
    "    for i in range(0, len(data_indexes)):\n",
    "        samples[i % params['V']]['X'].append(t.data['X'][data_indexes[i]])\n",
    "        samples[i % params['V']]['y'].append(t.data['y'][data_indexes[i]])\n",
    "    \n",
    "    print(samples)\n",
    "    \n",
    "    return False\n",
    "        \n",
    "# 2.2.1 Split selection\n",
    "def splitNode(t, params):\n",
    "    \n",
    "    min_p_value = float('inf')\n",
    "    \n",
    "    for k in range(0, len(t.data['X'][0])):\n",
    "        \n",
    "        X_k = [t.data['X'][i][k] for i in range(0, len(t.data['X']))]\n",
    "\n",
    "        class1, class2 = {'X':[], 'y':[]}, {'X':[], 'y':[]}\n",
    "\n",
    "        #Split selection (1. Model selection)\n",
    "\n",
    "        slope, intercept,_,_,_ = st.linregress(X_k, t.data['y'])\n",
    "\n",
    "        #Split selection (2. Residuals)\n",
    "\n",
    "        for i in range(0, len(t.data['X'])):\n",
    "            if t.data['y'][i] >= slope * X_k[i] + intercept:\n",
    "                class1['X'].append(X_k[i])\n",
    "                class1['y'].append(t.data['y'][i])\n",
    "\n",
    "            else:\n",
    "                class2['X'].append(X_k[i])\n",
    "                class2['y'].append(t.data['y'][i])\n",
    "\n",
    "        #Split selection (3. Tests for means and variances)\n",
    "\n",
    "        #(a) Test for difference in means\n",
    "        test_mean_diff = ( statistics.mean(class1['X']) - statistics.mean(class2['X']) ) / \\\n",
    "                         ( statistics.pstdev(X_k) * math.sqrt(1/len(class1['X']) + 1/len(class2['X'])))\n",
    "\n",
    "        #(b) Test for difference in variances (Levene, 1960)\n",
    "        test_var_diff = ( statistics.mean([abs(x - statistics.mean(class1['X'])) for x in class1['X']]) - \\\n",
    "                          statistics.mean([abs(x - statistics.mean(class2['X'])) for x in class2['X']]) ) / \\\n",
    "                        ( statistics.pstdev([abs(x - statistics.mean(X_k)) for x in X_k]) * math.sqrt(1/len(class1['X']) + 1/len(class2['X'])))\n",
    "\n",
    "        prob_mean_diff = st.t.sf(test_mean_diff, len(t.data['X']) - 2)\n",
    "        prob_var_diff = st.t.sf(test_var_diff, len(t.data['X']) - 2)\n",
    "\n",
    "        if prob_mean_diff < min_p_value:\n",
    "            min_p_value = prob_mean_diff\n",
    "            k_0 = k\n",
    "            a = ( statistics.mean(class1['X']) + statistics.mean(class2['X']) ) / 2\n",
    "        elif prob_var_diff < min_p_value:\n",
    "            min_p_value = prob_var_diff\n",
    "            k_0 = k\n",
    "            a = ( statistics.mean(class1['X']) + statistics.mean(class2['X']) ) / 2\n",
    "    \n",
    "    # 2.2.2 Stopping rule\n",
    "    if not shouldSplit(t, params):\n",
    "            return False\n",
    "\n",
    "    #Split selection (4. Variable selection)\n",
    "    \n",
    "    left_data = {'X':[], 'y':[]}\n",
    "    right_data = {'X':[], 'y':[]}\n",
    "    \n",
    "    for i in range(0, len(t.data['X'])):\n",
    "        if t.data['X'][i][k_0] < a:\n",
    "            left_data['X'].append(t.data['X'][i])\n",
    "            left_data['y'].append(t.data['y'][i])\n",
    "        else:\n",
    "            right_data['X'].append(t.data['X'][i])\n",
    "            right_data['y'].append(t.data['y'][i])\n",
    "\n",
    "    splitNode(t.left)\n",
    "    splitNode(t.right)\n",
    "    \n",
    "def fit(X, y, params):\n",
    "    t = createTree(X, y)\n",
    "    splitNode(t, params)\n",
    "    "
   ]
  },
  {
   "cell_type": "code",
   "execution_count": 96,
   "metadata": {
    "scrolled": true
   },
   "outputs": [
    {
     "name": "stdout",
     "output_type": "stream",
     "text": [
      "[{'X': [array([0.7815648 , 0.00371351]), array([0.17926235, 0.99304209]), array([0.1946865 , 0.90482227]), array([0.22327127, 0.19681879]), array([0.84303808, 0.58851401]), array([0.58253105, 0.33414342]), array([0.39355976, 0.86957523]), array([0.32154089, 0.39699326]), array([0.66593304, 0.47520731]), array([0.52065876, 0.22346995])], 'y': [0.7897716601106217, 0.186384063087026, 0.3667958672527481, 1.2932760386660127, 0.9097086563172203, 0.8780789968324257, 0.4681683973364131, 1.3496522445516697, 0.5288902627065577, 0.6472539819439996]}, {'X': [array([0.16569516, 0.88157335]), array([0.27466567, 0.80607721]), array([0.02952511, 0.58663867]), array([0.1305847 , 0.46300814]), array([0.16818252, 0.16900663]), array([0.88284107, 0.46386829]), array([0.3567027 , 0.38562896]), array([0.87121935, 0.71930824]), array([0.86969435, 0.88313527]), array([0.53646971, 0.82183353])], 'y': [0.8080101671211241, 0.9587957794907018, 0.7778415064540916, 0.7733549295097484, 1.0458377081787464, 0.7401409779114688, 0.7127336645011042, 0.6133640788268984, 0.18091130497190044, -0.07544137994528666]}, {'X': [array([0.93500498, 0.96095684]), array([0.03357269, 0.17042826]), array([0.28546292, 0.13580988]), array([0.33738029, 0.21237499]), array([0.65423119, 0.99045428]), array([0.00646316, 0.04440703]), array([0.13527986, 0.68611435]), array([0.14497202, 0.90415843]), array([0.76900651, 0.3937888 ]), array([0.51228834, 0.13641938])], 'y': [0.16299602076238898, 0.9707777632040544, 1.1711988442628518, 0.6188032973578799, 0.9629836723428369, 1.0778531538744813, 0.7469600136106143, 0.7592076721438584, 0.4144064262954224, 0.8148624507255242]}, {'X': [array([0.65547889, 0.77508292]), array([0.04512689, 0.28357504]), array([0.43129206, 0.78269259]), array([0.48975936, 0.69133682]), array([0.26668359, 0.65674015]), array([0.39178249, 0.0518719 ]), array([0.49725884, 0.78171063]), array([0.41826522, 0.19377704]), array([0.19107689, 0.60232712]), array([0.38597843, 0.83143205])], 'y': [0.7579125764490252, 1.2092123415950669, 0.5927968018595055, 0.5417249731432354, 0.4909410726294397, 0.9360661637660622, 0.6667684455433956, 0.9431999239822065, 0.5523994612172136, 0.7293232767273558]}, {'X': [array([0.39495662, 0.19093646]), array([0.38323483, 0.64191098]), array([0.18583362, 0.77961541]), array([0.28677089, 0.56288483]), array([0.91799741, 0.51166535]), array([0.86382073, 0.01581854]), array([0.45661907, 0.35645671]), array([0.69282857, 0.07420345]), array([0.78357646, 0.81320692]), array([0.64043782, 0.2818893 ])], 'y': [0.6398270129253633, 0.7835574674218456, 0.5864837297487577, 0.4761291325580934, 0.7178337170707426, 0.7065116021575215, 0.7063014556632056, 0.7292305991169105, 0.6877234330714369, 0.777190522506753]}, {'X': [array([0.65931257, 0.87929876]), array([0.38823216, 0.59349249]), array([0.32232716, 0.27955956]), array([0.86180863, 0.08266594]), array([0.03383034, 0.28823053]), array([0.53058637, 0.16975026]), array([0.0618468 , 0.78348799]), array([0.9631448 , 0.36339361]), array([0.96153612, 0.79512246]), array([0.80421018, 0.4394148 ])], 'y': [0.5374882990643928, 0.6947978559709223, 0.6591491700896324, 0.6106874689587202, 1.0185894409810692, 0.6459624221356063, 0.5504674152059268, 0.6251758925024972, 0.23501966829023024, 0.5375953798354485]}, {'X': [array([0.07135702, 0.57227295]), array([0.2322682, 0.0246584]), array([0.64187177, 0.0380121 ]), array([0.10669442, 0.79790285]), array([0.22589639, 0.61912121]), array([0.29361638, 0.6712154 ]), array([0.65755449, 0.95722327]), array([0.51901877, 0.36767709]), array([0.88987706, 0.91066585]), array([0.74865633, 0.06274003])], 'y': [0.911600324902967, 1.0703966569920327, 0.9451034214721463, 0.5495505279170413, 0.6761567150127753, 0.5472365858925806, 0.44855824718562115, 0.7750179374249015, 0.6320902992057015, 0.49325689570587683]}, {'X': [array([0.34307271, 0.17956334]), array([0.06560884, 0.31494774]), array([0.48671846, 0.77398059]), array([0.38710524, 0.23801428]), array([0.42696691, 0.73984189]), array([0.35118675, 0.56319658]), array([0.97498212, 0.3350638 ]), array([0.0836464 , 0.97824559]), array([0.36111408, 0.23114121]), array([0.39767679, 0.86393489])], 'y': [1.2539039092034852, 0.8776269098264627, 0.321559682553087, 0.9114646938703527, 0.9518794963956421, 0.8386156577915576, 0.7874875376856243, 1.0948079632466807, 1.1230621895557165, 0.69627221794247]}, {'X': [array([0.61221613, 0.67002012]), array([0.51472036, 0.79168244]), array([0.50059081, 0.13688944]), array([0.77405146, 0.60467449]), array([0.89737928, 0.84320878]), array([0.47860678, 0.9752909 ]), array([0.38685424, 0.01856754]), array([0.19004388, 0.17492812]), array([0.19909194, 0.34232142]), array([0.73666728, 0.97012146])], 'y': [0.6936566685098556, 0.9011038647112237, 0.2755459458203201, 0.20872995394099952, 0.5257817859447543, 0.740422125629556, 0.6999703344436836, 0.9891752344246184, 0.9967969004904361, 0.3537577345240699]}, {'X': [array([0.68791887, 0.86535606]), array([0.66227613, 0.39627052]), array([0.3941697, 0.4768371]), array([0.05200386, 0.92275031]), array([0.61592297, 0.99505699]), array([0.23327368, 0.7761649 ]), array([0.6851057 , 0.00247047]), array([0.53843204, 0.49152712]), array([0.20910364, 0.51133636]), array([0.51901471, 0.29821523])], 'y': [0.17618273961311182, 0.9252058208473435, 0.5965615920737488, 0.6418250935462231, 0.5015567026680544, 0.9157996989708884, 0.7875155219071636, 0.9224228369595717, 1.3247738207025441, 1.0711180204213397]}]\n"
     ]
    }
   ],
   "source": [
    "def f(x1, x2):\n",
    "    return math.exp(-(x1**2 + x2**2)/2) + 0.2 * st.norm.rvs(0, 1)\n",
    "\n",
    "X, y = [], []\n",
    "for _ in range(0, 100):\n",
    "    x1 = random.random() # x in [0, 1]\n",
    "    x2 = random.random()\n",
    "    X.append(np.array([x1,x2]))\n",
    "    y.append(f(x1,x2))\n",
    "\n",
    "params = {'f': 0.2,'eta': 0.2,'V': 10,'MINDAT': 3}\n",
    "\n",
    "fit(X, y, params)"
   ]
  },
  {
   "cell_type": "code",
   "execution_count": null,
   "metadata": {},
   "outputs": [],
   "source": []
  },
  {
   "cell_type": "code",
   "execution_count": null,
   "metadata": {},
   "outputs": [],
   "source": []
  }
 ],
 "metadata": {
  "kernelspec": {
   "display_name": "Python 3",
   "language": "python",
   "name": "python3"
  },
  "language_info": {
   "codemirror_mode": {
    "name": "ipython",
    "version": 3
   },
   "file_extension": ".py",
   "mimetype": "text/x-python",
   "name": "python",
   "nbconvert_exporter": "python",
   "pygments_lexer": "ipython3",
   "version": "3.5.2"
  }
 },
 "nbformat": 4,
 "nbformat_minor": 4
}
